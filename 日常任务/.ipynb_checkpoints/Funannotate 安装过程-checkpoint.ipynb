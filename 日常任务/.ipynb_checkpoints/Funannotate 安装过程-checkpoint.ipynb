{
 "cells": [
  {
   "cell_type": "markdown",
   "id": "290a3feb",
   "metadata": {},
   "source": [
    "1. 首先安装anaconda， 可以通过yum install anaconda 进行安装。\n",
    "2. 计划conda环境： source /DATA/anaconda3/bin/activate，此时标题最前面会出现Base字样，表明位于anaconda环境中\n",
    "3. 添加conda channels。\n",
    "    conda config --add channels defaults\n",
    "    conda config --add channels bioconda\n",
    "    conda config --add channels conda-forge\n",
    "    conda create -n funannotate \"python>=3.6,<3.9\" funannotate\n",
    "4. 安装需要的包或软件： mamba, augustus, exonerate, tb2asn bedtools, tRNAscan-se, minimap2等软件。"
   ]
  },
  {
   "cell_type": "markdown",
   "id": "704c3d66",
   "metadata": {},
   "source": [
    "[8:12] Jon Palmer\n",
    "oh, then the other thing to be aware of is that by default it will name all genes with the prefix 'FUN_' so you can control this with the -n,--names option in funannotate predict so some unique prefix is recommended so that they do not clash with other gene ids\n",
    "\n",
    "[8:12] Jon Palmer\n",
    "just thinking that you are likely going to run on several genomes, so it is initially made to put in an NCBI prefix here -- but you can use anything you like.  For our internal stuff I would use the strain name or seqread idenfitier, something unique. \n",
    "\n",
    "[8:08] Jon Palmer\n",
    "python -m pip install git+https://github.com/nextgenusfs/funannotate.git --upgrade --force --no-deps\n",
    "GitHub - nextgenusfs/funannotate: Eukaryotic Genome Annotation Pipeline\n",
    "Eukaryotic Genome Annotation Pipeline. Contribute to nextgenusfs/funannotate development by creating an account on GitHub.\n",
    "\n",
    "[8:08] Jon Palmer\n",
    "Then the fix I made is in the funannotate sort command, it now has a new option -s,--simplify that will sort by length but then just rename by splitting at first space.\n",
    "\n",
    "[8:09] Jon Palmer\n",
    "I'd actually recommend upgrading as I fixed a method last week in the protein2genome mapping module."
   ]
  }
 ],
 "metadata": {
  "kernelspec": {
   "display_name": "Python 3",
   "language": "python",
   "name": "python3"
  },
  "language_info": {
   "codemirror_mode": {
    "name": "ipython",
    "version": 3
   },
   "file_extension": ".py",
   "mimetype": "text/x-python",
   "name": "python",
   "nbconvert_exporter": "python",
   "pygments_lexer": "ipython3",
   "version": "3.8.1"
  }
 },
 "nbformat": 4,
 "nbformat_minor": 5
}
