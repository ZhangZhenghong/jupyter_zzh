{
 "cells": [
  {
   "cell_type": "code",
   "execution_count": 1,
   "id": "3915f4f5",
   "metadata": {},
   "outputs": [
    {
     "name": "stdout",
     "output_type": "stream",
     "text": [
      "[]\n"
     ]
    }
   ],
   "source": [
    "#findall 总是会返回，如果没找到返回【】\n",
    "import re\n",
    "a = 'zzh'\n",
    "b = re.findall('re', a)\n",
    "print(b)\n"
   ]
  },
  {
   "cell_type": "code",
   "execution_count": 5,
   "id": "d50f545b",
   "metadata": {},
   "outputs": [
    {
     "name": "stdout",
     "output_type": "stream",
     "text": [
      "foubd\n"
     ]
    }
   ],
   "source": [
    "#字符串的find函数，如果没做到返回的是-1，作为if判断时为真，不可用find\n",
    "a = 'zzh'\n",
    "if a.find('ray') == -1:\n",
    "    print(\"foubd\")\n"
   ]
  },
  {
   "cell_type": "code",
   "execution_count": 9,
   "id": "72894ae1",
   "metadata": {},
   "outputs": [
    {
     "name": "stdout",
     "output_type": "stream",
     "text": [
      "-1\n",
      "3\n"
     ]
    }
   ],
   "source": [
    "#字符串中的特殊字符不需要加转义字符\n",
    "a= 'zzh.ray.ling'\n",
    "print(a.find(\"\\.ray\"))\n",
    "print(a.find(\".ray\"))"
   ]
  },
  {
   "cell_type": "code",
   "execution_count": 2,
   "id": "a145ff21",
   "metadata": {},
   "outputs": [
    {
     "name": "stdout",
     "output_type": "stream",
     "text": [
      "C:\\Users\\de8174\\AppData\\Roaming\\Python\\Python38\\site-packages\\ipykernel_launcher.py\n"
     ]
    }
   ],
   "source": [
    "import sys\n",
    "print(sys.argv[0])\n",
    "\n",
    "#sys.argv[0]是python脚本的名字，从1开始才是需要传入的文件参数"
   ]
  },
  {
   "cell_type": "code",
   "execution_count": null,
   "id": "0d18cb99",
   "metadata": {},
   "outputs": [],
   "source": []
  }
 ],
 "metadata": {
  "kernelspec": {
   "display_name": "Python 3",
   "language": "python",
   "name": "python3"
  },
  "language_info": {
   "codemirror_mode": {
    "name": "ipython",
    "version": 3
   },
   "file_extension": ".py",
   "mimetype": "text/x-python",
   "name": "python",
   "nbconvert_exporter": "python",
   "pygments_lexer": "ipython3",
   "version": "3.8.1"
  }
 },
 "nbformat": 4,
 "nbformat_minor": 5
}
