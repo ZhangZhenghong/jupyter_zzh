{
 "cells": [
  {
   "cell_type": "code",
   "execution_count": null,
   "id": "069b77d0",
   "metadata": {},
   "outputs": [],
   "source": [
    "import os\n",
    "import subprocess\n",
    "def wget(url):\n",
    "    # download with wget\n",
    "    cmd = ['wget', '-O', 'index.html', url]\n",
    "    subprocess.call(cmd)\n",
    "    \n",
    "url = \"https://ftp.ncbi.nlm.nih.gov/genomes/all/GCF/000/142/805/GCF_000142805.1_ASM14280v1/\"\n",
    "wget(url)\n"
   ]
  },
  {
   "cell_type": "code",
   "execution_count": 15,
   "id": "cc27345e",
   "metadata": {},
   "outputs": [
    {
     "name": "stdout",
     "output_type": "stream",
     "text": [
      "ftp://ftp.ncbi.nlm.nih.gov/genomes/all/GCA/011/800/035/GCA_011800035.1_IMB_SAS_Cthedis_SODCAT_2020\n",
      "ftp://ftp.ncbi.nlm.nih.gov/genomes/all/GCA/011/316/235/GCA_011316235.1_Humgr2.0\n",
      "ftp://ftp.ncbi.nlm.nih.gov/genomes/all/GCA/000/142/805/GCA_000142805.1_ASM14280v1\n",
      "ftp://ftp.ncbi.nlm.nih.gov/genomes/all/GCA/010/093/505/GCA_010093505.1_Horac1\n",
      "ftp://ftp.ncbi.nlm.nih.gov/genomes/all/GCA/003/707/215/GCA_003707215.1_ASM370721v1\n",
      "ftp://ftp.ncbi.nlm.nih.gov/genomes/all/GCA/003/123/655/GCA_003123655.1_ASM312365v1\n",
      "ftp://ftp.ncbi.nlm.nih.gov/genomes/all/GCA/001/599/835/GCA_001599835.1_JCM_12817_assembly_v001\n",
      "ftp://ftp.ncbi.nlm.nih.gov/genomes/all/GCA/000/787/465/GCA_000787465.1_ASM78746v1\n",
      "ftp://ftp.ncbi.nlm.nih.gov/genomes/all/GCA/000/226/095/GCA_000226095.1_ASM22609v1\n",
      "ftp://ftp.ncbi.nlm.nih.gov/genomes/all/GCA/000/226/115/GCA_000226115.1_ASM22611v1\n",
      "ftp://ftp.ncbi.nlm.nih.gov/genomes/all/GCA/002/812/745/GCA_002812745.2_ASM281274v2\n",
      "ftp://ftp.ncbi.nlm.nih.gov/genomes/all/GCA/000/743/665/GCA_000743665.3_SPSU_Gcan_3\n",
      "ftp://ftp.ncbi.nlm.nih.gov/genomes/all/GCA/900/080/695/GCA_900080695.1_O.bispora_draftGenome_ver1.0\n",
      "ftp://ftp.ncbi.nlm.nih.gov/genomes/all/GCA/000/611/695/GCA_000611695.1_RhzM_1.0\n",
      "ftp://ftp.ncbi.nlm.nih.gov/genomes/all/GCA/900/175/165/GCA_900175165.2_FCH_5_7\n",
      "ftp://ftp.ncbi.nlm.nih.gov/genomes/all/GCA/000/787/465/GCA_000787465.1_ASM78746v1\n",
      "ftp://ftp.ncbi.nlm.nih.gov/genomes/all/GCA/003/325/435/GCA_003325435.1_Razy_CA\n",
      "ftp://ftp.ncbi.nlm.nih.gov/genomes/all/GCA/000/697/155/GCA_000697155.1_RhiDel21789-1.0\n",
      "ftp://ftp.ncbi.nlm.nih.gov/genomes/all/GCA/000/697/195/GCA_000697195.1_MucRam97-1192-1.0\n",
      "ftp://ftp.ncbi.nlm.nih.gov/genomes/all/GCA/003/325/415/GCA_003325415.1_Rstol_CA\n",
      "ftp://ftp.ncbi.nlm.nih.gov/genomes/all/GCA/009/805/475/GCA_009805475.1_ASM980547v1\n",
      "ftp://ftp.ncbi.nlm.nih.gov/genomes/all/GCA/000/968/615/GCA_000968615.1_ASM96861v1\n",
      "ftp://ftp.ncbi.nlm.nih.gov/genomes/all/GCA/016/859/225/GCA_016859225.1_ASM1685922v1\n",
      "ftp://ftp.ncbi.nlm.nih.gov/genomes/all/GCA/001/599/055/GCA_001599055.1_JCM_6961_assembly_v001\n",
      "ftp://ftp.ncbi.nlm.nih.gov/genomes/all/GCA/001/599/615/GCA_001599615.1_JCM_6020_assembly_v001\n",
      "ftp://ftp.ncbi.nlm.nih.gov/genomes/all/GCA/001/513/885/GCA_001513885.1_ASM151388v1\n",
      "ftp://ftp.ncbi.nlm.nih.gov/genomes/all/GCA/019/670/975/GCA_019670975.1_ASM1967097v1\n",
      "ftp://ftp.ncbi.nlm.nih.gov/genomes/all/GCA/019/456/465/GCA_019456465.1_ASM1945646v1\n",
      "ftp://ftp.ncbi.nlm.nih.gov/genomes/all/GCA/005/765/155/GCA_005765155.1_ASM576515v1\n",
      "ftp://ftp.ncbi.nlm.nih.gov/genomes/all/GCA/005/765/155/GCA_005765155.1_ASM576515v1\n",
      "ftp://ftp.ncbi.nlm.nih.gov/genomes/all/GCA/002/242/795/GCA_002242795.1_ASM224279v1\n",
      "ftp://ftp.ncbi.nlm.nih.gov/genomes/all/GCA/002/914/405/GCA_002914405.1_ByssAF2.0\n",
      "ftp://ftp.ncbi.nlm.nih.gov/genomes/all/GCA/001/931/905/GCA_001931905.2_ASM193190v2\n"
     ]
    }
   ],
   "source": [
    "text ='''\n",
    "Chaetomium thermophilum var. dissitum\tftp://ftp.ncbi.nlm.nih.gov/genomes/all/GCA/011/800/035/GCA_011800035.1_IMB_SAS_Cthedis_SODCAT_2020\n",
    "[Humicola] grisea var. thermoidea\tftp://ftp.ncbi.nlm.nih.gov/genomes/all/GCA/011/316/235/GCA_011316235.1_Humgr2.0\n",
    "Lachancea thermotolerans CBS 6340\tftp://ftp.ncbi.nlm.nih.gov/genomes/all/GCA/000/142/805/GCA_000142805.1_ASM14280v1\n",
    "Neohortaea acidophila\tftp://ftp.ncbi.nlm.nih.gov/genomes/all/GCA/010/093/505/GCA_010093505.1_Horac1\n",
    "Phaffomyces thermotolerans\tftp://ftp.ncbi.nlm.nih.gov/genomes/all/GCA/003/707/215/GCA_003707215.1_ASM370721v1\n",
    "Thermoascaceae sp. COH1141\tftp://ftp.ncbi.nlm.nih.gov/genomes/all/GCA/003/123/655/GCA_003123655.1_ASM312365v1\n",
    "Thermoascus crustaceus\tftp://ftp.ncbi.nlm.nih.gov/genomes/all/GCA/001/599/835/GCA_001599835.1_JCM_12817_assembly_v001\n",
    "Thermomucor indicae-seudaticae\tftp://ftp.ncbi.nlm.nih.gov/genomes/all/GCA/000/787/465/GCA_000787465.1_ASM78746v1\n",
    "Thermothelomyces thermophilus ATCC 42464\tftp://ftp.ncbi.nlm.nih.gov/genomes/all/GCA/000/226/095/GCA_000226095.1_ASM22609v1\n",
    "Thermothielavioides terrestris NRRL 8126\tftp://ftp.ncbi.nlm.nih.gov/genomes/all/GCA/000/226/115/GCA_000226115.1_ASM22611v1\n",
    "Scytalidium lignicola\tftp://ftp.ncbi.nlm.nih.gov/genomes/all/GCA/002/812/745/GCA_002812745.2_ASM281274v2\n",
    "Scytalidium sp. 3C\tftp://ftp.ncbi.nlm.nih.gov/genomes/all/GCA/000/743/665/GCA_000743665.3_SPSU_Gcan_3\n",
    "Ophiocordyceps bispora\tftp://ftp.ncbi.nlm.nih.gov/genomes/all/GCA/900/080/695/GCA_900080695.1_O.bispora_draftGenome_ver1.0\n",
    "Rhizomucor miehei CAU432\tftp://ftp.ncbi.nlm.nih.gov/genomes/all/GCA/000/611/695/GCA_000611695.1_RhzM_1.0\n",
    "Rhizomucor pusillus\tftp://ftp.ncbi.nlm.nih.gov/genomes/all/GCA/900/175/165/GCA_900175165.2_FCH_5_7\n",
    "Thermomucor indicae-seudaticae\tftp://ftp.ncbi.nlm.nih.gov/genomes/all/GCA/000/787/465/GCA_000787465.1_ASM78746v1\n",
    "Rhizopus azygosporus\tftp://ftp.ncbi.nlm.nih.gov/genomes/all/GCA/003/325/435/GCA_003325435.1_Razy_CA\n",
    "Rhizopus delemar\tftp://ftp.ncbi.nlm.nih.gov/genomes/all/GCA/000/697/155/GCA_000697155.1_RhiDel21789-1.0\n",
    "Rhizopus oryzae\tftp://ftp.ncbi.nlm.nih.gov/genomes/all/GCA/000/697/195/GCA_000697195.1_MucRam97-1192-1.0\n",
    "Rhizopus stolonifer\tftp://ftp.ncbi.nlm.nih.gov/genomes/all/GCA/003/325/415/GCA_003325415.1_Rstol_CA\n",
    "Talaromyces cellulolyticus\tftp://ftp.ncbi.nlm.nih.gov/genomes/all/GCA/009/805/475/GCA_009805475.1_ASM980547v1\n",
    "Thielaviopsis punctulata\tftp://ftp.ncbi.nlm.nih.gov/genomes/all/GCA/000/968/615/GCA_000968615.1_ASM96861v1\n",
    "Thielaviopsis cerberus\tftp://ftp.ncbi.nlm.nih.gov/genomes/all/GCA/016/859/225/GCA_016859225.1_ASM1685922v1\n",
    "Thielaviopsis ethacetica\tftp://ftp.ncbi.nlm.nih.gov/genomes/all/GCA/001/599/055/GCA_001599055.1_JCM_6961_assembly_v001\n",
    "Thielaviopsis euricoi\tftp://ftp.ncbi.nlm.nih.gov/genomes/all/GCA/001/599/615/GCA_001599615.1_JCM_6020_assembly_v001\n",
    "Thielaviopsis musarum\tftp://ftp.ncbi.nlm.nih.gov/genomes/all/GCA/001/513/885/GCA_001513885.1_ASM151388v1\n",
    "Acidiella bohemica\tftp://ftp.ncbi.nlm.nih.gov/genomes/all/GCA/019/670/975/GCA_019670975.1_ASM1967097v1\n",
    "Bacidia gigantensis\tftp://ftp.ncbi.nlm.nih.gov/genomes/all/GCA/019/456/465/GCA_019456465.1_ASM1945646v1\n",
    "Paecilomyces penicillatus\tftp://ftp.ncbi.nlm.nih.gov/genomes/all/GCA/005/765/155/GCA_005765155.1_ASM576515v1\n",
    "Paecilomyces penicillatus\tftp://ftp.ncbi.nlm.nih.gov/genomes/all/GCA/005/765/155/GCA_005765155.1_ASM576515v1\n",
    "Byssochlamys sp. BYSS01\tftp://ftp.ncbi.nlm.nih.gov/genomes/all/GCA/002/242/795/GCA_002242795.1_ASM224279v1\n",
    "Byssochlamys sp. AF001\tftp://ftp.ncbi.nlm.nih.gov/genomes/all/GCA/002/914/405/GCA_002914405.1_ByssAF2.0\n",
    "Byssochlamys sp. IMV 00045\tftp://ftp.ncbi.nlm.nih.gov/genomes/all/GCA/001/931/905/GCA_001931905.2_ASM193190v2\n",
    "'''\n",
    "\n",
    "a = text.split(\"\\n\")\n",
    "for i in a:\n",
    "    if i:\n",
    "        print(i.split(\"\\t\")[1])\n",
    "        "
   ]
  }
 ],
 "metadata": {
  "kernelspec": {
   "display_name": "Python 3",
   "language": "python",
   "name": "python3"
  },
  "language_info": {
   "codemirror_mode": {
    "name": "ipython",
    "version": 3
   },
   "file_extension": ".py",
   "mimetype": "text/x-python",
   "name": "python",
   "nbconvert_exporter": "python",
   "pygments_lexer": "ipython3",
   "version": "3.8.1"
  }
 },
 "nbformat": 4,
 "nbformat_minor": 5
}
