{
 "cells": [
  {
   "cell_type": "markdown",
   "id": "f01fc6f7",
   "metadata": {},
   "source": [
    "# 封装"
   ]
  },
  {
   "cell_type": "markdown",
   "id": "9b87e917",
   "metadata": {},
   "source": [
    "封装：只能在类内部访问，最好通过函数进行外部访问"
   ]
  },
  {
   "cell_type": "code",
   "execution_count": 20,
   "id": "2c8a0590",
   "metadata": {
    "scrolled": false
   },
   "outputs": [
    {
     "name": "stdout",
     "output_type": "stream",
     "text": [
      "protected is hello protected and private is hello private\n",
      "\n",
      "via class protected is hello protected and private is hello private \n",
      "\n",
      "hello protected\n",
      "hello private\n",
      "hello private\n",
      "new hello private\n"
     ]
    }
   ],
   "source": [
    "class Hello():\n",
    "    _arg = \"hello protected\"\n",
    "    __neibu = \"hello private\"\n",
    "    \n",
    "    def __init__(self):\n",
    "        print(\"protected is {} and private is {}\\n\".format(self._arg, self.__neibu)) #实例访问\n",
    "        print(\"via class protected is {} and private is {} \\n\".format(Hello._arg, Hello.__neibu)) #类名访问\n",
    "    \n",
    "    def get(self):\n",
    "        return self.__neibu\n",
    " \n",
    "o1 = Hello()\n",
    "print(o1._arg) #protected可以用实例名访问\n",
    "print(o1.get())\n",
    "\n",
    "print(o1._Hello__neibu) #强制访问类私有变量\n",
    "o1._Hello__neibu = \"new hello private\" #强制修改类私有变量\n"
   ]
  },
  {
   "cell_type": "markdown",
   "id": "3f5e75a8",
   "metadata": {},
   "source": [
    "# 父类方法重写"
   ]
  },
  {
   "cell_type": "markdown",
   "id": "1fe37bb0",
   "metadata": {},
   "source": [
    "方法1： 重写和父类的方法名称一样。但是在子类里面，重新实现。"
   ]
  },
  {
   "cell_type": "code",
   "execution_count": 31,
   "id": "d0e3de2d",
   "metadata": {},
   "outputs": [
    {
     "name": "stdout",
     "output_type": "stream",
     "text": [
      "dog is runing, 大四喜 金毛, and velocity is eigty\n",
      "dog 大四喜 is eating\n"
     ]
    }
   ],
   "source": [
    "class Animal():\n",
    "    def __init__(self, name, private01, private03):\n",
    "        self.name = name\n",
    "        self._private01 = \"animal private 01\"\n",
    "        self.__private02 = \"only in animal\"\n",
    "        self.__private03 = private03\n",
    "    \n",
    "    def run(self):\n",
    "        print(\"跑吧，animal\")\n",
    "        \n",
    "class Dog(Animal):\n",
    "    def __init__(self, name, kind):  #子类构造方法可以和父类不一样\n",
    "        self.name = name\n",
    "        self.kind = kind\n",
    "        \n",
    "    def eat(self):\n",
    "        print(\"dog {} is eating\".format(self.name))\n",
    "        \n",
    "    def run(self, vel): #直接重写方法覆盖父类方法\n",
    "        print(\"dog is runing, %s %s, and velocity is %s\" % (self.name, self.kind, vel))\n",
    "        \n",
    "dog = Dog(\"大四喜\", '金毛')\n",
    "#print(dog._private01) 无法访问父类私有变量\n",
    "dog.run('eigty')\n",
    "dog.eat()"
   ]
  },
  {
   "cell_type": "markdown",
   "id": "f0a33585",
   "metadata": {},
   "source": [
    "方法2： 保留父类的做法，在它的基础上再扩展其它的内容。（扩展方式：super()）有两种表达方式\n",
    "    *super().方法（参数列表）\n",
    "    *super（子类名，self）.方法（参数列表）"
   ]
  },
  {
   "cell_type": "code",
   "execution_count": 40,
   "id": "202d3117",
   "metadata": {},
   "outputs": [
    {
     "name": "stdout",
     "output_type": "stream",
     "text": [
      "animal private 01\n",
      "dog is runing, 大四喜 金毛, and velocity is eigty\n",
      "dog 大四喜 is eating\n",
      "跑吧，animal\n",
      "添加新的内容到该方法\n"
     ]
    }
   ],
   "source": [
    "class Animal():\n",
    "    def __init__(self, name, private01, private03):\n",
    "        self.name = name\n",
    "        self._private01 = \"animal private 01\"\n",
    "        self.__private02 = \"only in animal\"\n",
    "        self.__private03 = private03\n",
    "    \n",
    "    def run(self):\n",
    "        print(\"跑吧，animal\")\n",
    "        \n",
    "class Dog(Animal):\n",
    "    def __init__(self, name, kind, private01, private03):  #子类构造方法可以和父类不一样，参数数目可以与父类不一样\n",
    "        super().__init__(name,private01, private03) #先用父类方法进行初始化，注意，此时是不需要self的\n",
    "        print(self._private01) #可以访问父类的protected变量\n",
    "        #super(Dog,self).__init__(name,private01, private03 )  #方法2\n",
    "        self.kind = kind #添加其他的相关参数，\n",
    "        \n",
    "    def eat(self):\n",
    "        print(\"dog {} is eating\".format(self.name))\n",
    "        \n",
    "    def run(self, vel): #直接重写方法覆盖父类方法\n",
    "        print(\"dog is runing, %s %s, and velocity is %s\" % (self.name, self.kind, vel))\n",
    "        \n",
    "    def gogo(self):\n",
    "        super().run()\n",
    "        print(\"添加新的内容到该方法\")\n",
    "    \n",
    "        \n",
    "dog = Dog(\"大四喜\", '金毛', 'private01','Private003')\n",
    "#print(dog._private01) 无法访问父类私有变量\n",
    "dog.run('eigty')\n",
    "dog.eat()\n",
    "dog.gogo()"
   ]
  },
  {
   "cell_type": "markdown",
   "id": "ece0a60e",
   "metadata": {},
   "source": [
    "# 多态"
   ]
  },
  {
   "cell_type": "markdown",
   "id": "4c38c5a0",
   "metadata": {},
   "source": [
    "python中本质上是没有真正多态这种思路，只是形式上有这样一个多态的思路。"
   ]
  },
  {
   "cell_type": "code",
   "execution_count": 46,
   "id": "c7a9c176",
   "metadata": {
    "scrolled": true
   },
   "outputs": [
    {
     "name": "stdout",
     "output_type": "stream",
     "text": [
      "animal animal private 01\n",
      "Huahua\n",
      "xiaohei\n",
      "eating，animal\n",
      "cat is eating\n",
      "Dog is eating\n"
     ]
    }
   ],
   "source": [
    "def feed(obj):\n",
    "    obj.eat()\n",
    "\n",
    "class Animal():\n",
    "    def __init__(self, name, private01):\n",
    "        self.name = name\n",
    "        self._private01 = \"animal private 01\"\n",
    "        self.__private02 = \"only in animal\"\n",
    "        print(self.name, self._private01)\n",
    "    \n",
    "    def eat(self):\n",
    "        print(\"eating，animal\")\n",
    "        \n",
    "class Cat():\n",
    "    def __init__(self,name):\n",
    "        self.name = name\n",
    "        print(self.name)\n",
    "        \n",
    "    def eat(self):\n",
    "        print(\"cat is eating\")\n",
    "        \n",
    "class Dog():\n",
    "    def __init__(self,name):\n",
    "        self.name = name\n",
    "        print(self.name)\n",
    "        \n",
    "    def eat(self):\n",
    "        print(\"Dog is eating\")\n",
    "        \n",
    "ani = Animal('animal', 'private01')\n",
    "cat = Cat('Huahua')\n",
    "dog = Dog('xiaohei')\n",
    "\n",
    "feed(ani)\n",
    "feed(cat)\n",
    "feed(dog)"
   ]
  }
 ],
 "metadata": {
  "kernelspec": {
   "display_name": "Python 3",
   "language": "python",
   "name": "python3"
  },
  "language_info": {
   "codemirror_mode": {
    "name": "ipython",
    "version": 3
   },
   "file_extension": ".py",
   "mimetype": "text/x-python",
   "name": "python",
   "nbconvert_exporter": "python",
   "pygments_lexer": "ipython3",
   "version": "3.8.1"
  }
 },
 "nbformat": 4,
 "nbformat_minor": 5
}
