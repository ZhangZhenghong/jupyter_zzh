{
 "cells": [
  {
   "cell_type": "code",
   "execution_count": 3,
   "id": "7a274cfc",
   "metadata": {
    "scrolled": true
   },
   "outputs": [
    {
     "name": "stdout",
     "output_type": "stream",
     "text": [
      "[3, 6, 9, 12, 15]\n"
     ]
    }
   ],
   "source": [
    "a = [1,2,3,4,5]\n",
    "b = map(lambda x:x*3, a)\n",
    "print(list(b))"
   ]
  },
  {
   "cell_type": "markdown",
   "id": "deacac3f",
   "metadata": {},
   "source": [
    "1. 生成器是可以迭代的，但只可以读取它一次。因为用的时候才生成。比如 mygenerator = (x*x for x in range(3))，注意这里用到了()，它就不是数组，而上面的例子是[]。\n",
    "2. 生成器(generator)能够迭代的关键是它有一个next()方法，工作原理就是通过重复调用next()方法，直到捕获一个异常。可以用上面的mygenerator测试。\n",
    "3. 带有 yield 的函数不再是一个普通函数，而是一个生成器generator，可用于迭代，工作原理同上。\n",
    "4. yield 是一个类似 return 的关键字，迭代一次遇到yield时就返回yield后面(右边)的值。重点是：下一次迭代时，从上一次迭代遇到的yield后面的代码(下一行)开始执行。简要理解：yield就是 return 返回一个值，并且记住这个返回的位置，下次迭代就从这个位置后(下一行)开始。\n",
    "5. 带有yield的函数不仅仅只用于for循环中，而且可用于某个函数的参数，只要这个函数的参数允许迭代参数。比如array.extend函数，它的原型是array.extend(iterable)。\n",
    "6. send(msg)与next()的区别在于send可以传递参数给yield表达式，这时传递的参数会作为yield表达式的值，而yield的参数是返回给调用者的值。——换句话说，就是send可以强行修改上一个yield表达式值。比如函数中有一个yield赋值，a = yield 5，第一次迭代到这里会返回5，a还没有赋值。第二次迭代时，使用.send(10)，那么，就是强行修改yield 5表达式的值为10，本来是5的，那么a=1\n",
    "7. send(msg)与next()都有返回值，它们的返回值是当前迭代遇到yield时，yield后面表达式的值，其实就是当前迭代中yield后面的参数。\n",
    "8. 第一次调用时必须先next()或send(None)，否则会报错，send后之所以为None是因为这时候没有上一个yield(根据第8条)。可以认为，next()等同于send(None)。\n"
   ]
  },
  {
   "cell_type": "code",
   "execution_count": 20,
   "id": "e7d88192",
   "metadata": {},
   "outputs": [
    {
     "name": "stdout",
     "output_type": "stream",
     "text": [
      "[0, 1, 2, 3, 4, 5, 6, 7, 8, 9]\n",
      "<generator object <genexpr> at 0x0753D140>\n",
      "b is  <generator object <genexpr> at 0x0753D140>\n",
      "i is 0\n",
      "i is 1\n",
      "i is 2\n",
      "i is 3\n",
      "i is 4\n",
      "i is 5\n",
      "i is 6\n",
      "i is 7\n",
      "i is 8\n",
      "i is 9\n",
      "second iteration...\n"
     ]
    }
   ],
   "source": [
    "a = [x for x in range(10)]\n",
    "print(a)\n",
    "b = (x for x in range(10)) #b为生成器，可迭代，但只支持一次迭代，两次for循环只会输出一次，如果先用list（b）则相当于迭代了一次\n",
    "print(b)\n",
    "#print(list(b))\n",
    "print('b is ',b)\n",
    "for i in b:\n",
    "    print(\"i is\", i)\n",
    "print(\"second iteration...\")\n",
    "for i in b:\n",
    "    print(\"i is\", i)"
   ]
  },
  {
   "cell_type": "code",
   "execution_count": 12,
   "id": "e24a4a35",
   "metadata": {},
   "outputs": [
    {
     "name": "stdout",
     "output_type": "stream",
     "text": [
      "0 ,\n",
      "i= 0 chengyi 2\n",
      "2 ,\n",
      "i= 1 chengyi 2\n",
      "4 ,\n",
      "i= 2 chengyi 2\n",
      "6 ,\n",
      "i= 3 chengyi 2\n",
      "8 ,\n",
      "i= 4 chengyi 2\n",
      "0 ,\n",
      "i= 0 chengyi 30\n",
      "30 ,\n",
      "i= 1 chengyi 30\n",
      "60 ,\n",
      "i= 2 chengyi 30\n",
      "90 ,\n",
      "i= 3 chengyi 30\n",
      "120 ,\n",
      "i= 4 chengyi 30\n",
      "do something.\n",
      "end.\n"
     ]
    }
   ],
   "source": [
    "#encoding:UTF-8  \n",
    "def yield_test(n):  \n",
    "    for i in range(n):  \n",
    "        yield call(i)  #在yield的位置返回可迭代对象，下一次从这里向后面执行\n",
    "        print(\"i=\",i, \"chengyi 2\") \n",
    "        \n",
    "    for i in range(n):\n",
    "        yield call2(i) #\n",
    "        print(\"i=\", i, \"chengyi 30\")\n",
    "        \n",
    "    #做一些其它的事情      \n",
    "    print(\"do something.\")      \n",
    "    print(\"end.\")  \n",
    "    \n",
    "def call(i):  \n",
    "    return i*2  \n",
    "\n",
    "def call2(i):\n",
    "    return i*30\n",
    "  \n",
    "#使用for循环  \n",
    "for i in yield_test(5):  \n",
    "    print(i,\",\")  \n",
    "    "
   ]
  }
 ],
 "metadata": {
  "kernelspec": {
   "display_name": "Python 3",
   "language": "python",
   "name": "python3"
  },
  "language_info": {
   "codemirror_mode": {
    "name": "ipython",
    "version": 3
   },
   "file_extension": ".py",
   "mimetype": "text/x-python",
   "name": "python",
   "nbconvert_exporter": "python",
   "pygments_lexer": "ipython3",
   "version": "3.8.1"
  }
 },
 "nbformat": 4,
 "nbformat_minor": 5
}
