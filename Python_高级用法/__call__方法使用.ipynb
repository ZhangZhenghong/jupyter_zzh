{
 "cells": [
  {
   "cell_type": "code",
   "execution_count": 9,
   "id": "58120911",
   "metadata": {},
   "outputs": [
    {
     "name": "stdout",
     "output_type": "stream",
     "text": [
      "1\n",
      "3\n",
      "5\n",
      "7\n",
      "9\n",
      "11\n",
      "13\n",
      "15\n",
      "17\n",
      "19\n",
      "__call__ with （2, 3）\n",
      "test\n",
      "2 3 20\n"
     ]
    }
   ],
   "source": [
    "class X(object):\n",
    "    def __init__(self, a, b, range):\n",
    "        self.a = a\n",
    "        self.b = b\n",
    "        self.range = range\n",
    "        \n",
    "    def test(self):\n",
    "        print(\"a and b\", a)\n",
    "    def __call__(self, a, b):\n",
    "        self.a = a\n",
    "        self.b = b\n",
    "        print('__call__ with （{}, {}）'.format(self.a, self.b))\n",
    "        print(self.test.__name__)\n",
    "    def __del__(self, a, b, range):\n",
    "        del self.a\n",
    "        del self.b\n",
    "        del self.range\n",
    "\n",
    "for i in range(20):\n",
    "    if i%2 ==0:\n",
    "        continue\n",
    "    else:\n",
    "        print(i)\n",
    "        \n",
    "        \n",
    "a = X(3,9,20)\n",
    "a(2,3)\n",
    "print(a.a,a.b, a.range)\n"
   ]
  }
 ],
 "metadata": {
  "kernelspec": {
   "display_name": "Python 3",
   "language": "python",
   "name": "python3"
  },
  "language_info": {
   "codemirror_mode": {
    "name": "ipython",
    "version": 3
   },
   "file_extension": ".py",
   "mimetype": "text/x-python",
   "name": "python",
   "nbconvert_exporter": "python",
   "pygments_lexer": "ipython3",
   "version": "3.8.1"
  }
 },
 "nbformat": 4,
 "nbformat_minor": 5
}
