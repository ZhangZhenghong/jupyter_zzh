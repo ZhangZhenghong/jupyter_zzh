{
 "cells": [
  {
   "cell_type": "markdown",
   "id": "61e6b61e",
   "metadata": {},
   "source": [
    "单元素元组一定要加逗号\n",
    "如果不确信变量，类和实例等， 打印出查看即可。\n"
   ]
  },
  {
   "cell_type": "code",
   "execution_count": null,
   "id": "7d747aaf",
   "metadata": {},
   "outputs": [],
   "source": [
    "python 也支持continue操作"
   ]
  }
 ],
 "metadata": {
  "kernelspec": {
   "display_name": "Python 3",
   "language": "python",
   "name": "python3"
  },
  "language_info": {
   "codemirror_mode": {
    "name": "ipython",
    "version": 3
   },
   "file_extension": ".py",
   "mimetype": "text/x-python",
   "name": "python",
   "nbconvert_exporter": "python",
   "pygments_lexer": "ipython3",
   "version": "3.8.1"
  }
 },
 "nbformat": 4,
 "nbformat_minor": 5
}
