{
 "cells": [
  {
   "cell_type": "code",
   "execution_count": null,
   "id": "587f439f",
   "metadata": {},
   "outputs": [],
   "source": [
    "1、字符串前加 u\n",
    "例：u\"我是含有中文字符组成的字符串。\"\n",
    "\n",
    "作用：\n",
    "\n",
    "后面字符串以 Unicode 格式进行编码，一般用在中文字符串前面，防止因为源码储存格式问题，导致再次使用时出现乱码。\n",
    "\n",
    " \n",
    "\n",
    "2、字符串前加 r\n",
    "例：r\"\\n\\n\\n\\n”　　# 表示一个普通生字符串 \\n\\n\\n\\n，而不表示换行了。\n",
    "\n",
    "作用：\n",
    "\n",
    "去掉反斜杠的转移机制。\n",
    "\n",
    "（特殊字符：即那些，反斜杠加上对应字母，表示对应的特殊含义的，比如最常见的”\\n”表示换行，”\\t”表示Tab等。 ）\n",
    "\n",
    "应用：\n",
    "\n",
    "常用于正则表达式，对应着re模块。\n",
    "\n",
    " \n",
    "\n",
    "3、字符串前加 b\n",
    "例: response = b'<h1>Hello World!</h1>'     # b' ' 表示这是一个 bytes 对象\n",
    "\n",
    "作用：\n",
    "\n",
    "b\" \"前缀表示：后面字符串是bytes 类型。\n",
    "\n",
    "用处：\n",
    "网络编程中，服务器和浏览器只认bytes 类型数据。\n",
    "如：send 函数的参数和 recv 函数的返回值都是 bytes 类型\n",
    "\n",
    "附：\n",
    "在 Python3 中，bytes 和 str 的互相转换方式是\n",
    "str.encode('utf-8')\n",
    "bytes.decode('utf-8')\n",
    "\n",
    " \n",
    "\n",
    " \n",
    "\n",
    "4、字符串前加 f\n",
    "import time\n",
    "t0 = time.time()\n",
    "time.sleep(1)\n",
    "name = 'processing'\n",
    "\n",
    "# 以 f开头表示在字符串内支持大括号内的python 表达式\n",
    "print(f'{name} done in {time.time() - t0:.2f} s') \n",
    "\n",
    "输出：\n",
    "processing done in 1.00 s"
   ]
  }
 ],
 "metadata": {
  "kernelspec": {
   "display_name": "Python 3",
   "language": "python",
   "name": "python3"
  },
  "language_info": {
   "codemirror_mode": {
    "name": "ipython",
    "version": 3
   },
   "file_extension": ".py",
   "mimetype": "text/x-python",
   "name": "python",
   "nbconvert_exporter": "python",
   "pygments_lexer": "ipython3",
   "version": "3.8.1"
  }
 },
 "nbformat": 4,
 "nbformat_minor": 5
}
