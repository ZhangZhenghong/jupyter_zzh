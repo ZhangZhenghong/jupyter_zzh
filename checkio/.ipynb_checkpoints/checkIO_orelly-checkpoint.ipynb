{
 "cells": [
  {
   "cell_type": "markdown",
   "id": "3df79665",
   "metadata": {},
   "source": [
    "# Reverse every ascending"
   ]
  },
  {
   "cell_type": "markdown",
   "id": "ea848ce2",
   "metadata": {},
   "source": [
    "Create and return a new iterable that contains the same elements as the argument iterable items, but with the reversed order of the elements inside every maximal strictly ascending sublist. This function should not modify the contents of the original iterable.\n",
    "\n",
    "Input: Iterable\n",
    "\n",
    "Output: Iterable\n",
    "\n",
    "Example:\n",
    "\n",
    "reverse_ascending([1, 2, 3, 4, 5]) == [5, 4, 3, 2, 1]\n",
    "reverse_ascending([5, 7, 10, 4, 2, 7, 8, 1, 3]) == [10, 7, 5, 4, 8, 7, 2, 3, 1]\n",
    "1\n",
    "2\n",
    "How it is used: (math is used everywhere)\n",
    "\n",
    "Precondition: Iterable contains only ints"
   ]
  },
  {
   "cell_type": "code",
   "execution_count": null,
   "id": "88a75521",
   "metadata": {},
   "outputs": [],
   "source": [
    "def reverse_ascending(items):\n",
    "    # your code here\n",
    "    \n",
    "\n",
    "\n",
    "if __name__ == '__main__':\n",
    "    print(\"Example:\")\n",
    "    print(reverse_ascending([1, 2, 3, 4, 5]))\n",
    "\n",
    "    # These \"asserts\" are used for self-checking and not for an auto-testing\n",
    "    assert list(reverse_ascending([1, 2, 3, 4, 5])) == [5, 4, 3, 2, 1]\n",
    "    assert list(reverse_ascending([5, 7, 10, 4, 2, 7, 8, 1, 3])) == [10, 7, 5, 4, 8, 7, 2, 3, 1]\n",
    "    assert list(reverse_ascending([5, 4, 3, 2, 1])) == [5, 4, 3, 2, 1]\n",
    "    assert list(reverse_ascending([])) == []\n",
    "    assert list(reverse_ascending([1])) == [1]\n",
    "    assert list(reverse_ascending([1, 1])) == [1, 1]\n",
    "    assert list(reverse_ascending([1, 1, 2])) == [1, 2, 1]\n",
    "    print(\"Coding complete? Click 'Check' to earn cool rewards!\")"
   ]
  }
 ],
 "metadata": {
  "kernelspec": {
   "display_name": "Python 3",
   "language": "python",
   "name": "python3"
  },
  "language_info": {
   "codemirror_mode": {
    "name": "ipython",
    "version": 3
   },
   "file_extension": ".py",
   "mimetype": "text/x-python",
   "name": "python",
   "nbconvert_exporter": "python",
   "pygments_lexer": "ipython3",
   "version": "3.8.1"
  }
 },
 "nbformat": 4,
 "nbformat_minor": 5
}
