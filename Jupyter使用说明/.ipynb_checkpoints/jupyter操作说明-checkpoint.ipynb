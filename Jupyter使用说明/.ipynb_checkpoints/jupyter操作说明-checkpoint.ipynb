{
 "cells": [
  {
   "cell_type": "markdown",
   "id": "7597169d",
   "metadata": {},
   "source": [
    "# 安装并开启相关插件"
   ]
  },
  {
   "cell_type": "markdown",
   "id": "f1fe07b0",
   "metadata": {},
   "source": [
    "1. sudo pip3 install jupyter\n",
    "2. 切换到对应文件夹\n",
    "3. jupyter notebook --no-browser --port=8080 --ip=195.85.46.36\n",
    "4. 安装juyter扩展功能模块\n",
    "   sudo python3 install jupyter_nbextensions_configurator\n",
    "   jupyter contrib nbextension install --us\n",
    "   sudo pip3 install jupyter_nbextensions_configurator\n",
    "   jupyter nbextensions_configurator enable --user\n",
    "   jupyter notebook --no-browser --port=8080 --ip=195.85.46.36"
   ]
  },
  {
   "cell_type": "markdown",
   "id": "d905f687",
   "metadata": {},
   "source": [
    "a或b插入cell\n",
    "ctrl + enter 运行该cell\n",
    "DD 删除cell\n",
    "在命令模式下，按下enter或者鼠标单击代码框可以进入编辑模式。\n",
    "在编辑模式下，按下esc或者鼠标单击代码框左侧区域即可进入命令模式。\n",
    "m, y和r可以切换markdown，code和raw状态\n",
    "1，2,3,4.。可以设置不同的大小的标题\n",
    "快捷键参考： https://cloud.tencent.com/developer/article/1748594"
   ]
  },
  {
   "cell_type": "markdown",
   "id": "dab3430d",
   "metadata": {},
   "source": [
    "修改文件名：可以点击文件名称，在弹出的框中直接修改或者File—>Rename\n",
    "新建Notebook文件：File—>New Notebook—>python3\n",
    "下载文件：File—>Download as —> 选择目标格式即可下载\n",
    "合并cell：Edit—>Merge Cell Above或Merge Cell Below\n",
    "重启Kernel并清除所有输出：Kernel—>Restart & Clear Output\n",
    "重启Kernel并运行所有cell：Kernel—>Restart & Run All\n",
    "停止当前Notebook运行：Kernel—>ShutDown"
   ]
  },
  {
   "cell_type": "markdown",
   "id": "b7d5c5c7",
   "metadata": {},
   "source": [
    "https://cloud.tencent.com/developer/article/1555180 查看详情"
   ]
  }
 ],
 "metadata": {
  "kernelspec": {
   "display_name": "Python 3",
   "language": "python",
   "name": "python3"
  },
  "language_info": {
   "codemirror_mode": {
    "name": "ipython",
    "version": 3
   },
   "file_extension": ".py",
   "mimetype": "text/x-python",
   "name": "python",
   "nbconvert_exporter": "python",
   "pygments_lexer": "ipython3",
   "version": "3.8.1"
  }
 },
 "nbformat": 4,
 "nbformat_minor": 5
}
