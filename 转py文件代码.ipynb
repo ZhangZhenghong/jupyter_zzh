{
 "cells": [
  {
   "cell_type": "markdown",
   "id": "7cd94b71",
   "metadata": {},
   "source": [
    "# heading"
   ]
  },
  {
   "cell_type": "code",
   "execution_count": 1,
   "id": "577b6594",
   "metadata": {
    "scrolled": true
   },
   "outputs": [
    {
     "name": "stdout",
     "output_type": "stream",
     "text": [
      "[5, 6, 7]\n"
     ]
    }
   ],
   "source": [
    "a = [1,2,3,4,[5,6,7]]\n",
    "for i in a:\n",
    "    if isinstance(i,list):\n",
    "        print(i)"
   ]
  },
  {
   "cell_type": "markdown",
   "id": "9b381409",
   "metadata": {},
   "source": [
    "annotation is here"
   ]
  },
  {
   "cell_type": "code",
   "execution_count": 1,
   "id": "8109e877",
   "metadata": {},
   "outputs": [
    {
     "name": "stderr",
     "output_type": "stream",
     "text": [
      "[NbConvertApp] Converting notebook test1.ipynb to python\n",
      "[NbConvertApp] Writing 322 bytes to test1.py\n"
     ]
    }
   ],
   "source": [
    "try:   a\n",
    "    !jupyter nbconvert --to python test1.ipynb\n",
    "    # python即转化为.py，script即转化为.html\n",
    "    # file_name.ipynb即当前module的文件名\n",
    "except:\n",
    "    pass"
   ]
  },
  {
   "cell_type": "markdown",
   "id": "b57fa3d6",
   "metadata": {},
   "source": [
    "markdown is here"
   ]
  }
 ],
 "metadata": {
  "kernelspec": {
   "display_name": "Python 3",
   "language": "python",
   "name": "python3"
  },
  "language_info": {
   "codemirror_mode": {
    "name": "ipython",
    "version": 3
   },
   "file_extension": ".py",
   "mimetype": "text/x-python",
   "name": "python",
   "nbconvert_exporter": "python",
   "pygments_lexer": "ipython3",
   "version": "3.8.1"
  }
 },
 "nbformat": 4,
 "nbformat_minor": 5
}
